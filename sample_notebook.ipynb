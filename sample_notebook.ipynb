{
 "cells": [
  {
   "cell_type": "code",
   "execution_count": 1,
   "id": "164c29c2-7aeb-4443-9edb-0e57274606b4",
   "metadata": {
    "execution": {
     "iopub.execute_input": "2024-07-31T14:10:17.104802Z",
     "iopub.status.busy": "2024-07-31T14:10:17.104477Z",
     "iopub.status.idle": "2024-07-31T14:10:17.403886Z",
     "shell.execute_reply": "2024-07-31T14:10:17.403492Z",
     "shell.execute_reply.started": "2024-07-31T14:10:17.104790Z"
    }
   },
   "outputs": [],
   "source": [
    "\"\"\"matplotlib block. This code imports our graphing software and tells it to embed images in the\n",
    "Jupyter Notebook instead of in a separate window. This code probably has some issues and will be \n",
    "subject to change when someone who actually understands matplotlib takes a look at it.\"\"\"\n",
    "%matplotlib inline\n",
    "import matplotlib as mpl\n",
    "import matplotlib.pyplot as plt"
   ]
  },
  {
   "cell_type": "code",
   "execution_count": null,
   "id": "43a8dac0-b4ed-4e29-b990-49f646e1a5bf",
   "metadata": {},
   "outputs": [],
   "source": [
    "\"\"\"The scraper calls the SRC API to download game and run data onto your local machine.\n",
    "This data is stored in parquet files and enriched via the functions in enrich_data.py.\n",
    "\n",
    "To fetch data for your game, go to the leaderboard and copy the URL name that comes after \n",
    "the speedrun.com/, eg. pizza_tower for Pizza Tower or sml2 for Super Mario Land 2.\"\"\"\n",
    "\n",
    "from pathlib import Path\n",
    "\n",
    "import scraper as scp\n",
    "\n",
    "SRC_GAME_ABBREV = \"Arzette_The_Jewel_of_Faramore\"\n",
    "FILE_PREFIX = \"AZ\"\n",
    "SAVE_PATH = Path(\"~/Az_stats\") # TODO: Check if you need to make this folder\n",
    "\n",
    "game_info = scp.get_full_game(SRC_GAME_ABBREV, board_prefix=FILE_PREFIX, fetch_runs=True, save_path=SAVE_PATH)\n"
   ]
  },
  {
   "cell_type": "code",
   "execution_count": null,
   "id": "14d2cd9c-760f-49a1-a2ed-37087fd48c33",
   "metadata": {},
   "outputs": [],
   "source": []
  }
 ],
 "metadata": {
  "kernelspec": {
   "display_name": "Python 3 (ipykernel)",
   "language": "python",
   "name": "python3"
  },
  "language_info": {
   "codemirror_mode": {
    "name": "ipython",
    "version": 3
   },
   "file_extension": ".py",
   "mimetype": "text/x-python",
   "name": "python",
   "nbconvert_exporter": "python",
   "pygments_lexer": "ipython3",
   "version": "3.10.12"
  }
 },
 "nbformat": 4,
 "nbformat_minor": 5
}
