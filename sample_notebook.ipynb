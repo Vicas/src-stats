{
 "cells": [
  {
   "cell_type": "code",
   "execution_count": null,
   "id": "43a8dac0-b4ed-4e29-b990-49f646e1a5bf",
   "metadata": {},
   "outputs": [],
   "source": [
    "\"\"\"The scraper calls the SRC API to download game and run data onto your local machine.\n",
    "This data can be stored locally in parquet files and enriched via the functions in enrich_data.py.\n",
    "\n",
    "To fetch data for your game, go to the leaderboard and copy the URL name that comes after \n",
    "the speedrun.com/, eg. pizza_tower for Pizza Tower or sml2 for Super Mario Land 2.\"\"\"\n",
    "\n",
    "import scraper as scp\n",
    "\n",
    "SRC_GAME_ABBREV = \"pizza_tower\"\n",
    "\n",
    "board_info = scp.get_full_game(SRC_GAME_ABBREV, fetch_runs=True)"
   ]
  },
  {
   "cell_type": "code",
   "execution_count": null,
   "id": "f31a9177-ad43-464e-b4c9-48ec83a84d9a",
   "metadata": {},
   "outputs": [],
   "source": [
    "\"\"\"board_info now contains info for your chosen game's categories, levels, variables, and runs.\"\"\"\n",
    "board_info.categories"
   ]
  },
  {
   "cell_type": "code",
   "execution_count": null,
   "id": "9a9def2b-13f7-4f57-8a3a-1dbd4238489d",
   "metadata": {},
   "outputs": [],
   "source": [
    "\"\"\"get_full_game can also save files locally for faster access without the API, though generally pulls will be fast enough to not worry about.\"\"\"\n",
    "from pathlib import Path\n",
    "\n",
    "# Prefix you want to save files with. If None, this will just use the SRC_GAME_ABBREV you set above\n",
    "FILE_PREFIX = \"PT\"\n",
    "\n",
    "# Substitute with a folder you want to save the data files in\n",
    "DATA_PATH = Path(\"/mnt/c/Users/vicas/downloads/PT\") \n",
    "DATA_PATH.mkdir(parents=True, exist_ok=True)\n",
    "\n",
    "# By setting save_path to a Path variable with a folder, files will be saved to your local machine\n",
    "scp.get_full_game(SRC_GAME_ABBREV, file_prefix=FILE_PREFIX, fetch_runs=True, save_path=DATA_PATH)\n",
    "\n",
    "# get_full_game_local loads the files locally, and only works if files exist in save_path for all of runs, categories, levels, and variables.\n",
    "board_info = scp.get_full_game_local(SRC_GAME_ABBREV, file_prefix=FILE_PREFIX, save_path=DATA_PATH)"
   ]
  },
  {
   "cell_type": "code",
   "execution_count": null,
   "id": "cd3b8192-eaaa-4ee9-a9e7-18aee6525837",
   "metadata": {},
   "outputs": [],
   "source": [
    "\"\"\"Take the runs and graph the runs per week for the last 30 weeks, posting it in the notebook.\"\"\"\n",
    "%matplotlib inline\n",
    "from datetime import datetime, timedelta\n",
    "\n",
    "import generate_graphs as grph\n",
    "\n",
    "# If the board has ILs, split run submissions by those\n",
    "has_ils = len(board_info.levels) > 0\n",
    "\n",
    "grph.plot_runs_per_week(board_info, start_date=datetime.now()-timedelta(weeks=30), il_split=has_ils)"
   ]
  },
  {
   "cell_type": "code",
   "execution_count": null,
   "id": "eef88655-a95c-46b3-9ab8-9661b6ace8ba",
   "metadata": {},
   "outputs": [],
   "source": [
    "\"\"\"Run plots can also be saved to disk by providing a Path to save_fig_path\"\"\"\n",
    "SAVE_FIG = DATA_PATH / f\"{FILE_PREFIX}_runs_per_week_{datetime.now().date().isoformat()}.png\"\n",
    "\n",
    "grph.plot_runs_per_week(board_info, start_date=datetime.now()-timedelta(weeks=30), il_split=has_ils, save_fig_path=SAVE_FIG)"
   ]
  },
  {
   "cell_type": "code",
   "execution_count": null,
   "id": "f90e0e5c-ca9e-4fdd-9847-29f44269d613",
   "metadata": {},
   "outputs": [],
   "source": [
    "\"\"\"We're working on a refactor to get the rest of the generate_graphs functional with more generic arguments.\n",
    "This code was originally written specifically for Pizza Tower before the Noise update, so some work is still\n",
    "needed to get all the old graphs back.\"\"\""
   ]
  }
 ],
 "metadata": {
  "kernelspec": {
   "display_name": "Python 3 (ipykernel)",
   "language": "python",
   "name": "python3"
  },
  "language_info": {
   "codemirror_mode": {
    "name": "ipython",
    "version": 3
   },
   "file_extension": ".py",
   "mimetype": "text/x-python",
   "name": "python",
   "nbconvert_exporter": "python",
   "pygments_lexer": "ipython3",
   "version": "3.10.12"
  }
 },
 "nbformat": 4,
 "nbformat_minor": 5
}
